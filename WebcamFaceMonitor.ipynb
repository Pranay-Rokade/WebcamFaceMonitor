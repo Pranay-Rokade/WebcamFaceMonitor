{
 "cells": [
  {
   "cell_type": "code",
   "execution_count": 1,
   "id": "d3e64378",
   "metadata": {},
   "outputs": [],
   "source": [
    "import cv2\n",
    "import time\n",
    "import numpy as np\n",
    "from PIL import ImageGrab"
   ]
  },
  {
   "cell_type": "code",
   "execution_count": 2,
   "id": "94bb24b3",
   "metadata": {},
   "outputs": [],
   "source": [
    "def webcam():\n",
    "    imgcapture = cv2.VideoCapture(0)   #id of webcam\n",
    "    result = True\n",
    "    ret, frame = imgcapture.read()\n",
    "    name = int(round(time.time()*1000))\n",
    "    name = '{}.jpg'.format(name)\n",
    "    cv2.imwrite(name, frame)\n",
    "    result = False\n",
    "    print(\"Image Captured...!!!\")\n",
    "    imgcapture.release()"
   ]
  },
  {
   "cell_type": "code",
   "execution_count": 4,
   "id": "187e5356",
   "metadata": {},
   "outputs": [],
   "source": [
    "face_cascade = cv2.CascadeClassifier('haarcascade_frontalcatface.xml')"
   ]
  },
  {
   "cell_type": "code",
   "execution_count": 5,
   "id": "039ed60c",
   "metadata": {},
   "outputs": [],
   "source": [
    "def detect():\n",
    "    cap = cv2.VideoCapture(0)\n",
    "    \n",
    "    while True:\n",
    "        ret, img = cap.read()\n",
    "        \n",
    "        if not ret:\n",
    "            print(\"Failed to grab frame\")\n",
    "            break\n",
    "        gray = cv2.cvtColor(img, cv2.COLOR_BGR2GRAY)\n",
    "        faces = face_cascade.detectMultiScale(gray, 1.1, 4)\n",
    "        \n",
    "        for (x, y, w, h) in faces:\n",
    "            cv2.rectangle(img, (x, y), (x + w, y + h), (0, 255, 0), 2)   #show green rectangle when face is detected\n",
    "        \n",
    "        cv2.imshow(\"Face Detect\", img)\n",
    "        if cv2.waitKey(1) == 27:  # 27 is the ESC key\n",
    "            break\n",
    "    cap.release()\n",
    "    cv2.destroyAllWindows()"
   ]
  },
  {
   "cell_type": "code",
   "execution_count": 7,
   "id": "1fe5d4d3",
   "metadata": {},
   "outputs": [
    {
     "name": "stdout",
     "output_type": "stream",
     "text": [
      "\n",
      "Main Menu:\n",
      "1. Capture Image\n",
      "2. Detect Faces\n",
      "3. Exit\n",
      "Enter your choice (1/2/3): 1\n",
      "Image Captured...!!!\n",
      "\n",
      "Main Menu:\n",
      "1. Capture Image\n",
      "2. Detect Faces\n",
      "3. Exit\n",
      "Enter your choice (1/2/3): 2\n",
      "\n",
      "Main Menu:\n",
      "1. Capture Image\n",
      "2. Detect Faces\n",
      "3. Exit\n",
      "Enter your choice (1/2/3): 3\n",
      "Exiting...\n"
     ]
    }
   ],
   "source": [
    "def main_menu():\n",
    "    while True:\n",
    "        print(\"\\nMain Menu:\")\n",
    "        print(\"1. Capture Image\")\n",
    "        print(\"2. Detect Faces\")\n",
    "        print(\"3. Exit\")\n",
    "        \n",
    "        choice = input(\"Enter your choice (1/2/3): \")\n",
    "        \n",
    "        if choice == '1':\n",
    "            webcam()\n",
    "        elif choice == '2':\n",
    "            detect()\n",
    "        elif choice == '3':\n",
    "            print(\"Exiting...\")\n",
    "            break\n",
    "        else:\n",
    "            print(\"Invalid choice. Please enter 1, 2, or 3.\")\n",
    "\n",
    "if __name__ == \"__main__\":\n",
    "    main_menu()"
   ]
  }
 ],
 "metadata": {
  "kernelspec": {
   "display_name": "Python 3 (ipykernel)",
   "language": "python",
   "name": "python3"
  },
  "language_info": {
   "codemirror_mode": {
    "name": "ipython",
    "version": 3
   },
   "file_extension": ".py",
   "mimetype": "text/x-python",
   "name": "python",
   "nbconvert_exporter": "python",
   "pygments_lexer": "ipython3",
   "version": "3.11.7"
  }
 },
 "nbformat": 4,
 "nbformat_minor": 5
}
